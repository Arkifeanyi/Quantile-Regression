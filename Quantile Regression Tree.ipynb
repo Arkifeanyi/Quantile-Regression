{
 "cells": [
  {
   "cell_type": "code",
   "execution_count": 3,
   "id": "b26d772e",
   "metadata": {
    "executionInfo": {
     "elapsed": 2542,
     "status": "ok",
     "timestamp": 1701547195748,
     "user": {
      "displayName": "Lateefah Isegen",
      "userId": "10385317627466800169"
     },
     "user_tz": 300
    },
    "id": "b26d772e"
   },
   "outputs": [],
   "source": [
    "import numpy as np\n",
    "from sklearn.tree import DecisionTreeRegressor\n",
    "from sklearn.linear_model import QuantileRegressor\n",
    "from sklearn.linear_model import LinearRegression\n",
    "import numpy as np\n",
    "from sklearn.model_selection import train_test_split\n",
    "from sklearn.metrics import mean_absolute_error\n",
    "import matplotlib.pyplot as plt\n",
    "from sklearn.metrics import mean_squared_error"
   ]
  },
  {
   "cell_type": "code",
   "execution_count": 2,
   "id": "c0113fcb",
   "metadata": {
    "executionInfo": {
     "elapsed": 7,
     "status": "ok",
     "timestamp": 1701547195749,
     "user": {
      "displayName": "Lateefah Isegen",
      "userId": "10385317627466800169"
     },
     "user_tz": 300
    },
    "id": "c0113fcb"
   },
   "outputs": [],
   "source": [
    "from sklearn.utils.fixes import parse_version, sp_version\n",
    "# This is line is to avoid incompatibility if older SciPy version.\n",
    "# You should use `solver=\"highs\"` with recent version of SciPy.\n",
    "solver = \"highs\" if sp_version >= parse_version(\"1.6.0\") else \"interior-point\""
   ]
  },
  {
   "cell_type": "markdown",
   "id": "2fbb82d9",
   "metadata": {},
   "source": [
    "# Building the Model"
   ]
  },
  {
   "cell_type": "code",
   "execution_count": 4,
   "id": "7408b15f",
   "metadata": {
    "executionInfo": {
     "elapsed": 5,
     "status": "ok",
     "timestamp": 1701547195749,
     "user": {
      "displayName": "Lateefah Isegen",
      "userId": "10385317627466800169"
     },
     "user_tz": 300
    },
    "id": "7408b15f"
   },
   "outputs": [],
   "source": [
    "import numpy as np\n",
    "from sklearn.tree import DecisionTreeRegressor\n",
    "from sklearn.linear_model import QuantileRegressor\n",
    "\n",
    "class QuantileTreeRegressor:\n",
    "    def __init__(self, quantile=0.75, max_depth=10):\n",
    "        self.quantile = quantile\n",
    "        self.max_depth = max_depth\n",
    "        self.tree = []\n",
    "\n",
    "    def fit(self, X, y):\n",
    "        self.tree = self._fit_tree(X, y, depth=0)\n",
    "\n",
    "    def _fit_tree(self, X, y, depth, struct = 'begin', final = 0):\n",
    "\n",
    "        if depth == self.max_depth or len(np.unique(y)) == 1:\n",
    "            #solver = 'some_solver'  # Define the appropriate solver here\n",
    "            #qr = QuantileRegressor(quantile=self.quantile, alpha=0, solver=solver)\n",
    "            #qr.fit(X, y)\n",
    "            #qr.predict(X)\n",
    "            final = 1\n",
    "            return \"done\"\n",
    "\n",
    "        split_feature, split_threshold, loss, left_model, right_model = self._find_best_split(X, y)\n",
    "\n",
    "        ##split data\n",
    "        left_mask = X[:, split_feature] <= split_threshold\n",
    "        right_mask = ~left_mask\n",
    "\n",
    "        left_tree = self._fit_tree(X[left_mask], y[left_mask], depth = depth + 1, struct = 'left')\n",
    "        right_tree = self._fit_tree(X[right_mask], y[right_mask], depth = depth + 1, struct = 'right')\n",
    "\n",
    "\n",
    "        return {'depth': depth, 'final':final, 'struct': struct,\n",
    "                'feature': split_feature, 'threshold': split_threshold,\n",
    "                'loss': loss, 'left': left_tree, 'right': right_tree,\n",
    "                'left_model': left_model, 'right_model': right_model}\n",
    "\n",
    "    def _find_best_split(self, X, y):\n",
    "        best_split_feature = None\n",
    "        best_split_threshold = None\n",
    "        best_loss = float('inf')\n",
    "\n",
    "        for feature in range(X.shape[1]):\n",
    "            thresholds = np.unique(X[:, feature])\n",
    "            #X_ = X[:, feature]\n",
    "            #y_ =  y[X_]\n",
    "            #qr.fit(X_,y_)\n",
    "            for threshold in thresholds:\n",
    "                left_mask = X[:, feature] <= threshold\n",
    "                right_mask = ~left_mask\n",
    "\n",
    "                # Ensure both left and right have at least 1 sample\n",
    "                if np.sum(left_mask) == 0 or np.sum(right_mask) == 0:\n",
    "                    continue\n",
    "\n",
    "                left_predict = self._predict_quantile(X[left_mask],y[left_mask])\n",
    "                left_residuals = y[left_mask] - left_predict[0]\n",
    "                left_model = left_predict[1]\n",
    "\n",
    "                right_predict = self._predict_quantile(X[right_mask],y[right_mask])\n",
    "                right_residuals = y[right_mask] - right_predict[0]\n",
    "                right_model = right_predict[1]\n",
    "\n",
    "                left_loss = self._custom_loss(left_residuals, self.quantile)\n",
    "                right_loss = self._custom_loss(right_residuals, self.quantile)\n",
    "                total_loss = left_loss + right_loss\n",
    "\n",
    "                if total_loss < best_loss:\n",
    "                    best_loss = total_loss\n",
    "                    best_split_feature = feature\n",
    "                    best_split_threshold = threshold\n",
    "                    best_left_model = left_model\n",
    "                    best_right_model = right_model\n",
    "\n",
    "        return best_split_feature, best_split_threshold, best_loss, best_left_model, best_right_model\n",
    "\n",
    "    def _custom_loss(self, residuals, tau):\n",
    "        for residual in residuals:\n",
    "            if residual <= 0:\n",
    "                loss = tau*residual\n",
    "            else:\n",
    "                loss = (1 - tau)*residual\n",
    "        # Define your custom loss function here\n",
    "        # For example, you can modify the pinball loss or use a different loss function\n",
    "        return np.sum(np.abs(residuals))#tau * np.sum(np.abs(residuals)) + (1 - tau) * np.sum(np.abs(residuals))\n",
    "\n",
    "    def _predict_quantile(self, X,y):\n",
    "        qr = QuantileRegressor(quantile=self.quantile, alpha=0, solver=solver)\n",
    "        qr.fit(X, y)\n",
    "        return qr.predict(X) , qr\n",
    "\n",
    "\n",
    "    def predict(self, X):\n",
    "        if self.tree is None:\n",
    "            raise ValueError(\"Tree is not trained. Call fit() to train the tree.\")\n",
    "\n",
    "        predictions = np.zeros(X.shape[0])\n",
    "        for i in range(X.shape[0]):\n",
    "            predictions[i] = self._predict_tree(X[i], self.tree[0])\n",
    "\n",
    "        return predictions\n",
    "\n",
    "    def predict(self, X):\n",
    "        return np.array([self._predict_tree(x, self.tree) for x in X])\n",
    "\n",
    "    def _predict_tree(self, x, node):\n",
    "        if node['depth'] == self.max_depth - 1:\n",
    "            if x[node['feature']] <= node['threshold']:\n",
    "                return node['left_model'].predict([x])\n",
    "            else:\n",
    "                return node['right_model'].predict([x])\n",
    "\n",
    "            #return node  # Leaf node, return quantile prediction\n",
    "        else:\n",
    "            if x[node['feature']] <= node['threshold']:\n",
    "                return self._predict_tree(x, node['left'])\n",
    "            else:\n",
    "                return self._predict_tree(x, node['right'])\n",
    "\n",
    "\n",
    "\n"
   ]
  },
  {
   "cell_type": "markdown",
   "id": "105b23c0",
   "metadata": {},
   "source": [
    "# Testing the Model on simulated data"
   ]
  },
  {
   "cell_type": "code",
   "execution_count": 5,
   "id": "2414c16e",
   "metadata": {
    "executionInfo": {
     "elapsed": 905,
     "status": "ok",
     "timestamp": 1701547217769,
     "user": {
      "displayName": "Lateefah Isegen",
      "userId": "10385317627466800169"
     },
     "user_tz": 300
    },
    "id": "2414c16e"
   },
   "outputs": [],
   "source": [
    "# Simulate data\n",
    "np.random.seed(42)\n",
    "X = np.random.rand(100, 1) * 1  # Feature\n",
    "y = 3 * X[:, 0] + np.random.normal(0, 1, size=100)  # Target (with some noise)\n",
    "y = y**2\n",
    "# Split the data into training and testing sets\n",
    "X_train, X_test, y_train, y_test = train_test_split(X, y, test_size=0.2, random_state=42)\n"
   ]
  },
  {
   "cell_type": "code",
   "execution_count": 6,
   "id": "2fa8d103",
   "metadata": {},
   "outputs": [],
   "source": [
    "# Instantiate and fit the model\n",
    "quantile = 0.5\n",
    "model = QuantileTreeRegressor(quantile=quantile, max_depth=2)\n",
    "model.fit(X_train, y_train)\n",
    "\n",
    "# Make predictions\n",
    "predictions = model.predict(X_test)"
   ]
  },
  {
   "cell_type": "code",
   "execution_count": 7,
   "id": "9f1bbbd6",
   "metadata": {
    "executionInfo": {
     "elapsed": 10,
     "status": "ok",
     "timestamp": 1701547217770,
     "user": {
      "displayName": "Lateefah Isegen",
      "userId": "10385317627466800169"
     },
     "user_tz": 300
    },
    "id": "9f1bbbd6"
   },
   "outputs": [],
   "source": [
    "# View basic tree with 1 feature\n",
    "def print_tree(node, depth=0, feature_name=\"X\", side=\"Root\"):\n",
    "    indent = \"    \" * depth\n",
    "    prefix = \"├─ \" if side == \"Left\" else \"└─ \"\n",
    "    if isinstance(node, (str)):\n",
    "        #print ('done')#(f\"{indent}{prefix} Predict: {node:.2f}\")\n",
    "        pass\n",
    "    else:\n",
    "        print(f\"{indent}{prefix}{feature_name} <= {node['threshold']:.2f}, Loss: {node['loss']:.2f}\")\n",
    "        print_tree(node['left'], depth + 1, feature_name=feature_name, side=\"Left\")\n",
    "        print_tree(node['right'], depth + 1, feature_name=feature_name, side=\"Right\")\n",
    "\n"
   ]
  },
  {
   "cell_type": "code",
   "execution_count": 8,
   "id": "db3354eb",
   "metadata": {
    "colab": {
     "base_uri": "https://localhost:8080/"
    },
    "executionInfo": {
     "elapsed": 9,
     "status": "ok",
     "timestamp": 1701547217770,
     "user": {
      "displayName": "Lateefah Isegen",
      "userId": "10385317627466800169"
     },
     "user_tz": 300
    },
    "id": "db3354eb",
    "outputId": "ec04b13e-9c50-4d4e-8e88-4f7d93e58a3a"
   },
   "outputs": [
    {
     "name": "stdout",
     "output_type": "stream",
     "text": [
      "└─ X <= 0.60, Loss: 147.24\n",
      "    ├─ X <= 0.52, Loss: 62.61\n",
      "    └─ X <= 0.95, Loss: 65.77\n"
     ]
    }
   ],
   "source": [
    "# Print the tree structure\n",
    "print_tree(model.tree)"
   ]
  },
  {
   "cell_type": "code",
   "execution_count": 9,
   "id": "a636c612",
   "metadata": {
    "colab": {
     "base_uri": "https://localhost:8080/",
     "height": 508
    },
    "executionInfo": {
     "elapsed": 157,
     "status": "ok",
     "timestamp": 1701547217921,
     "user": {
      "displayName": "Lateefah Isegen",
      "userId": "10385317627466800169"
     },
     "user_tz": 300
    },
    "id": "a636c612",
    "outputId": "7729dc43-02c2-4b9c-9b2a-2aabd0dbc9e7"
   },
   "outputs": [
    {
     "name": "stdout",
     "output_type": "stream",
     "text": [
      "Mean Absolute Error: 2.450724712587463\n",
      "Mean Squared Error: 16.846598832031944\n"
     ]
    },
    {
     "data": {
      "image/png": "[encoded data removed]",
      "text/plain": [
       "<Figure size 432x288 with 1 Axes>"
      ]
     },
     "metadata": {
      "needs_background": "light"
     },
     "output_type": "display_data"
    }
   ],
   "source": [
    "# Evaluate the model\n",
    "mae = mean_absolute_error(y_test, predictions)\n",
    "print(f\"Mean Absolute Error: {mae}\")\n",
    "\n",
    "# Evaluate the model\n",
    "mse = mean_squared_error(y_test, predictions)\n",
    "print(f'Mean Squared Error: {mse}')\n",
    "\n",
    "#error = (quantile * np.sum(np.abs(y_test-predictions)) + (1 - quantile) * np.sum(np.abs(y_test-predictions)))/len(y_test)\n",
    "#print(f\"Error: {error}\")\n",
    "\n",
    "\n",
    "# Visualize predictions\n",
    "plt.scatter(X_test, y_test, label=\"Actual Values\")\n",
    "plt.scatter(X_test, predictions, label=\"Predicted Values at 50th percentile\", color='r')\n",
    "plt.xlabel(\"X\")\n",
    "plt.ylabel(\"y\")\n",
    "plt.title(\"Actual vs. Predicted Values\")\n",
    "plt.legend()\n",
    "plt.show()\n"
   ]
  },
  {
   "cell_type": "code",
   "execution_count": 11,
   "id": "b78626b0",
   "metadata": {},
   "outputs": [
    {
     "data": {
      "image/png": "[encoded data removed]",
      "text/plain": [
       "<Figure size 432x288 with 1 Axes>"
      ]
     },
     "metadata": {
      "needs_background": "light"
     },
     "output_type": "display_data"
    }
   ],
   "source": [
    "# Define the quantiles you want to consider\n",
    "quantiles = [0.05, 0.5, 0.95]\n",
    "\n",
    "# Dictionary to store predictions for each quantile\n",
    "quantile_predictions = {}\n",
    "\n",
    "# Iterate over quantiles\n",
    "for quantile in quantiles:\n",
    "    # Instantiate and fit the model\n",
    "    model = QuantileTreeRegressor(quantile=quantile, max_depth=2)\n",
    "    model.fit(X_train, y_train)\n",
    "\n",
    "    # Make predictions\n",
    "    predictions = model.predict(X_test)\n",
    "    \n",
    "    # Store predictions in the dictionary\n",
    "    quantile_predictions[quantile] = predictions\n",
    "\n",
    "    # Evaluate the model (you can adjust this part based on your needs)\n",
    "    mae = mean_absolute_error(y_test, predictions)\n",
    "    print(f'Mean Squared Error for {quantile}-th quantile: {mse}')\n",
    "\n",
    "\n",
    "# Plot the actual values\n",
    "plt.scatter(X_test, y_test, label=\"Actual Values\", marker='o')#, color='blue'\n",
    "\n",
    "# Plot predictions for each quantile\n",
    "for quantile, predictions in quantile_predictions.items():\n",
    "    plt.scatter(X_test, predictions, label=f\"Predicted Values ({quantile}-th quantile)\", alpha=0.7)\n",
    "\n",
    "plt.xlabel(\"X\")\n",
    "plt.ylabel(\"y\")\n",
    "plt.title(\"Actual vs. Predicted Values for Different Quantiles\")\n",
    "plt.legend()\n",
    "plt.show()"
   ]
  },
  {
   "cell_type": "markdown",
   "id": "955cd6d2",
   "metadata": {},
   "source": [
    "## Comparison with quantile regression across different quantiles"
   ]
  },
  {
   "cell_type": "code",
   "execution_count": 12,
   "id": "3fdbfdcb",
   "metadata": {},
   "outputs": [],
   "source": [
    "quantiles = np.arange(0.05, 1.0, 0.05)  # from 0.5 to 0.95 in steps of 0.05\n",
    "\n",
    "# Dictionary to store evaluation metrics for each quantile\n",
    "evaluation_metrics = {'quantile': [], 'MAE_qr': [], 'MSE_qr': [], 'MAE_qtr': [], 'MSE_qtr': []}\n",
    "\n",
    "# Dictionary to store predictions for each quantile\n",
    "quantile_predictions = {}"
   ]
  },
  {
   "cell_type": "code",
   "execution_count": 13,
   "id": "2c6415b8",
   "metadata": {},
   "outputs": [],
   "source": [
    "# Iterate over quantiles\n",
    "for quantile in quantiles:\n",
    "    # Instantiate and fit QuantileTreeRegressor\n",
    "    qtr_model = QuantileTreeRegressor(quantile=quantile, max_depth=2)\n",
    "    qtr_model.fit(X_train, y_train)\n",
    "\n",
    "    # Instantiate and fit QuantileRegressor\n",
    "    quantile_regressor_model = QuantileRegressor(quantile=quantile, alpha=0, solver=solver)\n",
    "    quantile_regressor_model.fit(X_train, y_train)\n",
    "\n",
    "    # Make predictions\n",
    "    predictions_qtr = qtr_model.predict(X_test)\n",
    "    predictions_qr = quantile_regressor_model.predict(X_test)\n",
    "\n",
    "    # Record evaluation metrics\n",
    "    mae_qtr = mean_absolute_error(y_test, predictions_qtr)\n",
    "    mse_qtr = mean_squared_error(y_test, predictions_qtr)\n",
    "    mae_qr = mean_absolute_error(y_test, predictions_qr)\n",
    "    mse_qr = mean_squared_error(y_test, predictions_qr)\n",
    "\n",
    "    # Store evaluation metrics in the dictionary\n",
    "    evaluation_metrics['quantile'].append(quantile)\n",
    "    evaluation_metrics['MAE_qr'].append(mae_qr)\n",
    "    evaluation_metrics['MSE_qr'].append(mse_qr)\n",
    "    evaluation_metrics['MAE_qtr'].append(mae_qtr)\n",
    "    evaluation_metrics['MSE_qtr'].append(mse_qtr)\n",
    "\n",
    "    # Store predictions in the dictionary\n",
    "    quantile_predictions[quantile] = {'qtr': predictions_qtr, 'qr': predictions_qr}"
   ]
  },
  {
   "cell_type": "code",
   "execution_count": 14,
   "id": "97264634",
   "metadata": {},
   "outputs": [
    {
     "data": {
      "image/png": "[encoded data removed]",
      "text/plain": [
       "<Figure size 864x576 with 1 Axes>"
      ]
     },
     "metadata": {
      "needs_background": "light"
     },
     "output_type": "display_data"
    },
    {
     "data": {
      "image/png": "[encoded data removed]",
      "text/plain": [
       "<Figure size 864x576 with 1 Axes>"
      ]
     },
     "metadata": {
      "needs_background": "light"
     },
     "output_type": "display_data"
    }
   ],
   "source": [
    "# Scatter plot for Actual vs. Predicted Values\n",
    "plt.figure(figsize=(12, 8))\n",
    "plt.plot(quantiles, evaluation_metrics['MAE_qtr'], label=\"Quantile Regression\", color='gray', alpha=0.6)\n",
    "plt.plot(quantiles, evaluation_metrics['MAE_qr'], label=\"Quantile Regression Tree\", color='blue', alpha=0.6)\n",
    "plt.xlabel(\"Quantile\")\n",
    "plt.ylabel(\"MAE\")\n",
    "plt.title(\"Mean Absolute errors across different quantiles - Model Comparison\")\n",
    "plt.legend()\n",
    "plt.show()\n",
    "\n",
    "# Scatter plot for Actual vs. Predicted Values\n",
    "plt.figure(figsize=(12, 8))\n",
    "plt.plot(quantiles, evaluation_metrics['MSE_qtr'], label=\"Quantile Regression\", color='gray', alpha=0.6)\n",
    "plt.plot(quantiles, evaluation_metrics['MSE_qr'], label=\"Quantile Regression Tree\", color='blue', alpha=0.6)\n",
    "plt.xlabel(\"Quantile\")\n",
    "plt.ylabel(\"MAE\")\n",
    "plt.title(\"Mean Absolute errors across different quantiles - Model Comparison\")\n",
    "plt.legend()\n",
    "plt.show()"
   ]
  },
  {
   "cell_type": "markdown",
   "id": "4b8dbfd5",
   "metadata": {
    "id": "4b8dbfd5"
   },
   "source": [
    "## Comparison with other models"
   ]
  },
  {
   "cell_type": "code",
   "execution_count": 15,
   "id": "TESIPWpMUdKU",
   "metadata": {
    "executionInfo": {
     "elapsed": 1594,
     "status": "ok",
     "timestamp": 1701550675262,
     "user": {
      "displayName": "Lateefah Isegen",
      "userId": "10385317627466800169"
     },
     "user_tz": 300
    },
    "id": "TESIPWpMUdKU"
   },
   "outputs": [],
   "source": [
    "# Initialize and train the Quantile Tree Regressor\n",
    "quantile = 0.5\n",
    "qtr_model = QuantileTreeRegressor(quantile=quantile, max_depth=2)\n",
    "qtr_model.fit(X_train, y_train)\n",
    "predictions = qtr_model.predict(X_test)"
   ]
  },
  {
   "cell_type": "code",
   "execution_count": 16,
   "id": "j2Ee4IO0UfOI",
   "metadata": {
    "colab": {
     "base_uri": "https://localhost:8080/",
     "height": 74
    },
    "executionInfo": {
     "elapsed": 162,
     "status": "ok",
     "timestamp": 1701550676404,
     "user": {
      "displayName": "Lateefah Isegen",
      "userId": "10385317627466800169"
     },
     "user_tz": 300
    },
    "id": "j2Ee4IO0UfOI",
    "outputId": "b0ec34ae-fcdd-4bc5-f09b-94687bec427b"
   },
   "outputs": [
    {
     "data": {
      "text/html": [
       "<style>#sk-container-id-1 {color: black;background-color: white;}#sk-container-id-1 pre{padding: 0;}#sk-container-id-1 div.sk-toggleable {background-color: white;}#sk-container-id-1 label.sk-toggleable__label {cursor: pointer;display: block;width: 100%;margin-bottom: 0;padding: 0.3em;box-sizing: border-box;text-align: center;}#sk-container-id-1 label.sk-toggleable__label-arrow:before {content: \"▸\";float: left;margin-right: 0.25em;color: #696969;}#sk-container-id-1 label.sk-toggleable__label-arrow:hover:before {color: black;}#sk-container-id-1 div.sk-estimator:hover label.sk-toggleable__label-arrow:before {color: black;}#sk-container-id-1 div.sk-toggleable__content {max-height: 0;max-width: 0;overflow: hidden;text-align: left;background-color: #f0f8ff;}#sk-container-id-1 div.sk-toggleable__content pre {margin: 0.2em;color: black;border-radius: 0.25em;background-color: #f0f8ff;}#sk-container-id-1 input.sk-toggleable__control:checked~div.sk-toggleable__content {max-height: 200px;max-width: 100%;overflow: auto;}#sk-container-id-1 input.sk-toggleable__control:checked~label.sk-toggleable__label-arrow:before {content: \"▾\";}#sk-container-id-1 div.sk-estimator input.sk-toggleable__control:checked~label.sk-toggleable__label {background-color: #d4ebff;}#sk-container-id-1 div.sk-label input.sk-toggleable__control:checked~label.sk-toggleable__label {background-color: #d4ebff;}#sk-container-id-1 input.sk-hidden--visually {border: 0;clip: rect(1px 1px 1px 1px);clip: rect(1px, 1px, 1px, 1px);height: 1px;margin: -1px;overflow: hidden;padding: 0;position: absolute;width: 1px;}#sk-container-id-1 div.sk-estimator {font-family: monospace;background-color: #f0f8ff;border: 1px dotted black;border-radius: 0.25em;box-sizing: border-box;margin-bottom: 0.5em;}#sk-container-id-1 div.sk-estimator:hover {background-color: #d4ebff;}#sk-container-id-1 div.sk-parallel-item::after {content: \"\";width: 100%;border-bottom: 1px solid gray;flex-grow: 1;}#sk-container-id-1 div.sk-label:hover label.sk-toggleable__label {background-color: #d4ebff;}#sk-container-id-1 div.sk-serial::before {content: \"\";position: absolute;border-left: 1px solid gray;box-sizing: border-box;top: 0;bottom: 0;left: 50%;z-index: 0;}#sk-container-id-1 div.sk-serial {display: flex;flex-direction: column;align-items: center;background-color: white;padding-right: 0.2em;padding-left: 0.2em;position: relative;}#sk-container-id-1 div.sk-item {position: relative;z-index: 1;}#sk-container-id-1 div.sk-parallel {display: flex;align-items: stretch;justify-content: center;background-color: white;position: relative;}#sk-container-id-1 div.sk-item::before, #sk-container-id-1 div.sk-parallel-item::before {content: \"\";position: absolute;border-left: 1px solid gray;box-sizing: border-box;top: 0;bottom: 0;left: 50%;z-index: -1;}#sk-container-id-1 div.sk-parallel-item {display: flex;flex-direction: column;z-index: 1;position: relative;background-color: white;}#sk-container-id-1 div.sk-parallel-item:first-child::after {align-self: flex-end;width: 50%;}#sk-container-id-1 div.sk-parallel-item:last-child::after {align-self: flex-start;width: 50%;}#sk-container-id-1 div.sk-parallel-item:only-child::after {width: 0;}#sk-container-id-1 div.sk-dashed-wrapped {border: 1px dashed gray;margin: 0 0.4em 0.5em 0.4em;box-sizing: border-box;padding-bottom: 0.4em;background-color: white;}#sk-container-id-1 div.sk-label label {font-family: monospace;font-weight: bold;display: inline-block;line-height: 1.2em;}#sk-container-id-1 div.sk-label-container {text-align: center;}#sk-container-id-1 div.sk-container {/* jupyter's `normalize.less` sets `[hidden] { display: none; }` but bootstrap.min.css set `[hidden] { display: none !important; }` so we also need the `!important` here to be able to override the default hidden behavior on the sphinx rendered scikit-learn.org. See: https://github.com/scikit-learn/scikit-learn/issues/21755 */display: inline-block !important;position: relative;}#sk-container-id-1 div.sk-text-repr-fallback {display: none;}</style><div id=\"sk-container-id-1\" class=\"sk-top-container\"><div class=\"sk-text-repr-fallback\"><pre>QuantileRegressor(alpha=0, solver=&#x27;highs&#x27;)</pre><b>In a Jupyter environment, please rerun this cell to show the HTML representation or trust the notebook. <br />On GitHub, the HTML representation is unable to render, please try loading this page with nbviewer.org.</b></div><div class=\"sk-container\" hidden><div class=\"sk-item\"><div class=\"sk-estimator sk-toggleable\"><input class=\"sk-toggleable__control sk-hidden--visually\" id=\"sk-estimator-id-1\" type=\"checkbox\" checked><label for=\"sk-estimator-id-1\" class=\"sk-toggleable__label sk-toggleable__label-arrow\">QuantileRegressor</label><div class=\"sk-toggleable__content\"><pre>QuantileRegressor(alpha=0, solver=&#x27;highs&#x27;)</pre></div></div></div></div></div>"
      ],
      "text/plain": [
       "QuantileRegressor(alpha=0, solver='highs')"
      ]
     },
     "execution_count": 16,
     "metadata": {},
     "output_type": "execute_result"
    }
   ],
   "source": [
    "# Initialize and train other comparison models\n",
    "linear_model = LinearRegression()\n",
    "decision_tree_model = DecisionTreeRegressor(random_state=42)\n",
    "quantile_regressor_model = QuantileRegressor(quantile=quantile, alpha=0, solver=solver)\n",
    "\n",
    "linear_model.fit(X_train, y_train)\n",
    "decision_tree_model.fit(X_train, y_train)\n",
    "quantile_regressor_model.fit(X_train, y_train)"
   ]
  },
  {
   "cell_type": "code",
   "execution_count": 17,
   "id": "5oTf9BilUiIi",
   "metadata": {
    "executionInfo": {
     "elapsed": 119,
     "status": "ok",
     "timestamp": 1701550685415,
     "user": {
      "displayName": "Lateefah Isegen",
      "userId": "10385317627466800169"
     },
     "user_tz": 300
    },
    "id": "5oTf9BilUiIi"
   },
   "outputs": [],
   "source": [
    "# Make predictions using the comparison models\n",
    "linear_predictions = linear_model.predict(X_test)\n",
    "decision_tree_predictions = decision_tree_model.predict(X_test)\n",
    "quantile_regressor_predictions = quantile_regressor_model.predict(X_test)"
   ]
  },
  {
   "cell_type": "code",
   "execution_count": 18,
   "id": "iIp3soxLUkgA",
   "metadata": {
    "executionInfo": {
     "elapsed": 124,
     "status": "ok",
     "timestamp": 1701550687964,
     "user": {
      "displayName": "Lateefah Isegen",
      "userId": "10385317627466800169"
     },
     "user_tz": 300
    },
    "id": "iIp3soxLUkgA"
   },
   "outputs": [],
   "source": [
    "# Calculate MAE and MSE for all models\n",
    "mae_values = [\n",
    "    mean_absolute_error(y_test, predictions),\n",
    "    mean_absolute_error(y_test, quantile_regressor_predictions),\n",
    "    mean_absolute_error(y_test, linear_predictions),\n",
    "    mean_absolute_error(y_test, decision_tree_predictions)\n",
    "    \n",
    "]\n",
    "\n",
    "mse_values = [\n",
    "    mean_squared_error(y_test, predictions),\n",
    "    mean_squared_error(y_test, quantile_regressor_predictions),\n",
    "    mean_squared_error(y_test, linear_predictions),\n",
    "    mean_squared_error(y_test, decision_tree_predictions)\n",
    "    \n",
    "]"
   ]
  },
  {
   "cell_type": "code",
   "execution_count": 19,
   "id": "-VDVuhFQa_8T",
   "metadata": {
    "colab": {
     "base_uri": "https://localhost:8080/"
    },
    "executionInfo": {
     "elapsed": 135,
     "status": "ok",
     "timestamp": 1701552341165,
     "user": {
      "displayName": "Lateefah Isegen",
      "userId": "10385317627466800169"
     },
     "user_tz": 300
    },
    "id": "-VDVuhFQa_8T",
    "outputId": "dab83698-386e-4e61-811f-bc9f2c3d063e"
   },
   "outputs": [
    {
     "name": "stdout",
     "output_type": "stream",
     "text": [
      "[2.450724712587463, 2.3278908694859815, 2.4858739467160853, 2.7696553353068265]\n"
     ]
    }
   ],
   "source": [
    "print(mae_values)"
   ]
  },
  {
   "cell_type": "code",
   "execution_count": 20,
   "id": "iMs7lXmzUn6Z",
   "metadata": {
    "colab": {
     "base_uri": "https://localhost:8080/",
     "height": 627
    },
    "executionInfo": {
     "elapsed": 597,
     "status": "ok",
     "timestamp": 1701550709451,
     "user": {
      "displayName": "Lateefah Isegen",
      "userId": "10385317627466800169"
     },
     "user_tz": 300
    },
    "id": "iMs7lXmzUn6Z",
    "outputId": "9bd3d55c-14b9-456e-a2be-0fb91276e024"
   },
   "outputs": [
    {
     "data": {
      "image/png": "[encoded data removed]",
      "text/plain": [
       "<Figure size 1008x432 with 2 Axes>"
      ]
     },
     "metadata": {
      "needs_background": "light"
     },
     "output_type": "display_data"
    }
   ],
   "source": [
    "# Bar plot for MAE and MSE comparison\n",
    "models = [\"Quantile Reg Tree\", \"Quantile Regressor\",\"Linear Regression\", \"Decision Tree\"]\n",
    "fig, axes = plt.subplots(1, 2, figsize=(14, 6))\n",
    "axes[0].bar(models, mae_values, color='skyblue')\n",
    "axes[0].set_title(\"Mean Absolute Error Comparison\")\n",
    "axes[0].set_ylabel(\"Mean Absolute Error\")\n",
    "\n",
    "axes[1].bar(models, mse_values, color='lightgreen')\n",
    "axes[1].set_title(\"Mean Squared Error Comparison\")\n",
    "axes[1].set_ylabel(\"Mean Squared Error\")\n",
    "\n",
    "plt.tight_layout()\n",
    "plt.show()"
   ]
  },
  {
   "cell_type": "code",
   "execution_count": null,
   "id": "de96fb6d",
   "metadata": {},
   "outputs": [],
   "source": []
  },
  {
   "cell_type": "markdown",
   "id": "04bae37c",
   "metadata": {},
   "source": [
    "## Boston Housing Dataset"
   ]
  },
  {
   "cell_type": "code",
   "execution_count": 21,
   "id": "df2bb8a2",
   "metadata": {},
   "outputs": [
    {
     "data": {
      "text/plain": [
       "'/nfs/home/jokafor/ML2'"
      ]
     },
     "execution_count": 21,
     "metadata": {},
     "output_type": "execute_result"
    }
   ],
   "source": [
    "import os\n",
    "import pandas as pd\n",
    "os.getcwd()"
   ]
  },
  {
   "cell_type": "code",
   "execution_count": 22,
   "id": "0f56c702",
   "metadata": {},
   "outputs": [],
   "source": [
    "data_dir = \"BostonHousing.csv\""
   ]
  },
  {
   "cell_type": "code",
   "execution_count": 23,
   "id": "df12394d",
   "metadata": {},
   "outputs": [],
   "source": [
    "data = pd.read_csv(data_dir)\n",
    "data =  data.dropna()"
   ]
  },
  {
   "cell_type": "code",
   "execution_count": 24,
   "id": "7cc9b8db",
   "metadata": {},
   "outputs": [
    {
     "data": {
      "text/plain": [
       "(501, 14)"
      ]
     },
     "execution_count": 24,
     "metadata": {},
     "output_type": "execute_result"
    }
   ],
   "source": [
    "data.shape"
   ]
  },
  {
   "cell_type": "code",
   "execution_count": 25,
   "id": "5f158485",
   "metadata": {},
   "outputs": [
    {
     "data": {
      "text/html": [
       "<div>\n",
       "<style scoped>\n",
       "    .dataframe tbody tr th:only-of-type {\n",
       "        vertical-align: middle;\n",
       "    }\n",
       "\n",
       "    .dataframe tbody tr th {\n",
       "        vertical-align: top;\n",
       "    }\n",
       "\n",
       "    .dataframe thead th {\n",
       "        text-align: right;\n",
       "    }\n",
       "</style>\n",
       "<table border=\"1\" class=\"dataframe\">\n",
       "  <thead>\n",
       "    <tr style=\"text-align: right;\">\n",
       "      <th></th>\n",
       "      <th>crim</th>\n",
       "      <th>zn</th>\n",
       "      <th>indus</th>\n",
       "      <th>chas</th>\n",
       "      <th>nox</th>\n",
       "      <th>rm</th>\n",
       "      <th>age</th>\n",
       "      <th>dis</th>\n",
       "      <th>rad</th>\n",
       "      <th>tax</th>\n",
       "      <th>ptratio</th>\n",
       "      <th>b</th>\n",
       "      <th>lstat</th>\n",
       "      <th>medv</th>\n",
       "    </tr>\n",
       "  </thead>\n",
       "  <tbody>\n",
       "    <tr>\n",
       "      <th>0</th>\n",
       "      <td>0.00632</td>\n",
       "      <td>18.0</td>\n",
       "      <td>2.31</td>\n",
       "      <td>0</td>\n",
       "      <td>0.538</td>\n",
       "      <td>6.575</td>\n",
       "      <td>65.2</td>\n",
       "      <td>4.0900</td>\n",
       "      <td>1</td>\n",
       "      <td>296</td>\n",
       "      <td>15.3</td>\n",
       "      <td>396.90</td>\n",
       "      <td>4.98</td>\n",
       "      <td>24.0</td>\n",
       "    </tr>\n",
       "    <tr>\n",
       "      <th>1</th>\n",
       "      <td>0.02731</td>\n",
       "      <td>0.0</td>\n",
       "      <td>7.07</td>\n",
       "      <td>0</td>\n",
       "      <td>0.469</td>\n",
       "      <td>6.421</td>\n",
       "      <td>78.9</td>\n",
       "      <td>4.9671</td>\n",
       "      <td>2</td>\n",
       "      <td>242</td>\n",
       "      <td>17.8</td>\n",
       "      <td>396.90</td>\n",
       "      <td>9.14</td>\n",
       "      <td>21.6</td>\n",
       "    </tr>\n",
       "    <tr>\n",
       "      <th>2</th>\n",
       "      <td>0.02729</td>\n",
       "      <td>0.0</td>\n",
       "      <td>7.07</td>\n",
       "      <td>0</td>\n",
       "      <td>0.469</td>\n",
       "      <td>7.185</td>\n",
       "      <td>61.1</td>\n",
       "      <td>4.9671</td>\n",
       "      <td>2</td>\n",
       "      <td>242</td>\n",
       "      <td>17.8</td>\n",
       "      <td>392.83</td>\n",
       "      <td>4.03</td>\n",
       "      <td>34.7</td>\n",
       "    </tr>\n",
       "    <tr>\n",
       "      <th>3</th>\n",
       "      <td>0.03237</td>\n",
       "      <td>0.0</td>\n",
       "      <td>2.18</td>\n",
       "      <td>0</td>\n",
       "      <td>0.458</td>\n",
       "      <td>6.998</td>\n",
       "      <td>45.8</td>\n",
       "      <td>6.0622</td>\n",
       "      <td>3</td>\n",
       "      <td>222</td>\n",
       "      <td>18.7</td>\n",
       "      <td>394.63</td>\n",
       "      <td>2.94</td>\n",
       "      <td>33.4</td>\n",
       "    </tr>\n",
       "    <tr>\n",
       "      <th>4</th>\n",
       "      <td>0.06905</td>\n",
       "      <td>0.0</td>\n",
       "      <td>2.18</td>\n",
       "      <td>0</td>\n",
       "      <td>0.458</td>\n",
       "      <td>7.147</td>\n",
       "      <td>54.2</td>\n",
       "      <td>6.0622</td>\n",
       "      <td>3</td>\n",
       "      <td>222</td>\n",
       "      <td>18.7</td>\n",
       "      <td>396.90</td>\n",
       "      <td>5.33</td>\n",
       "      <td>36.2</td>\n",
       "    </tr>\n",
       "  </tbody>\n",
       "</table>\n",
       "</div>"
      ],
      "text/plain": [
       "      crim    zn  indus  chas    nox     rm   age     dis  rad  tax  ptratio  \\\n",
       "0  0.00632  18.0   2.31     0  0.538  6.575  65.2  4.0900    1  296     15.3   \n",
       "1  0.02731   0.0   7.07     0  0.469  6.421  78.9  4.9671    2  242     17.8   \n",
       "2  0.02729   0.0   7.07     0  0.469  7.185  61.1  4.9671    2  242     17.8   \n",
       "3  0.03237   0.0   2.18     0  0.458  6.998  45.8  6.0622    3  222     18.7   \n",
       "4  0.06905   0.0   2.18     0  0.458  7.147  54.2  6.0622    3  222     18.7   \n",
       "\n",
       "        b  lstat  medv  \n",
       "0  396.90   4.98  24.0  \n",
       "1  396.90   9.14  21.6  \n",
       "2  392.83   4.03  34.7  \n",
       "3  394.63   2.94  33.4  \n",
       "4  396.90   5.33  36.2  "
      ]
     },
     "execution_count": 25,
     "metadata": {},
     "output_type": "execute_result"
    }
   ],
   "source": [
    "data.head()"
   ]
  },
  {
   "cell_type": "markdown",
   "id": "0052b0ed",
   "metadata": {},
   "source": [
    "## Data Split"
   ]
  },
  {
   "cell_type": "code",
   "execution_count": 26,
   "id": "7968483a",
   "metadata": {},
   "outputs": [],
   "source": [
    "X = data.drop('medv', axis=1).to_numpy()  # medv = target_column \n",
    "y = data[['medv']].values.ravel()"
   ]
  },
  {
   "cell_type": "code",
   "execution_count": 27,
   "id": "dc47fd9e",
   "metadata": {},
   "outputs": [],
   "source": [
    "# Split the data into training and testing sets\n",
    "X_train, X_test, y_train, y_test = train_test_split(X, y, test_size=0.2, random_state=42)\n",
    "\n"
   ]
  },
  {
   "cell_type": "markdown",
   "id": "9ff06364",
   "metadata": {},
   "source": [
    "### Building trees for different quantiles"
   ]
  },
  {
   "cell_type": "code",
   "execution_count": 28,
   "id": "ef505565",
   "metadata": {},
   "outputs": [],
   "source": [
    "# Instantiate and fit the model\n",
    "quantile = 0.05\n",
    "model = QuantileTreeRegressor(quantile=quantile, max_depth=2)\n",
    "model.fit(X_train, y_train)"
   ]
  },
  {
   "cell_type": "code",
   "execution_count": 29,
   "id": "1a8d3628",
   "metadata": {},
   "outputs": [
    {
     "data": {
      "text/plain": [
       "{'depth': 0,\n",
       " 'final': 0,\n",
       " 'struct': 'begin',\n",
       " 'feature': 5,\n",
       " 'threshold': 7.016,\n",
       " 'loss': 1663.9898020502133,\n",
       " 'left': {'depth': 1,\n",
       "  'final': 0,\n",
       "  'struct': 'left',\n",
       "  'feature': 7,\n",
       "  'threshold': 2.3534,\n",
       "  'loss': 1259.456448732837,\n",
       "  'left': 'done',\n",
       "  'right': 'done',\n",
       "  'left_model': QuantileRegressor(alpha=0, quantile=0.05, solver='highs'),\n",
       "  'right_model': QuantileRegressor(alpha=0, quantile=0.05, solver='highs')},\n",
       " 'right': {'depth': 1,\n",
       "  'final': 0,\n",
       "  'struct': 'right',\n",
       "  'feature': 5,\n",
       "  'threshold': 7.416,\n",
       "  'loss': 70.29465818596245,\n",
       "  'left': 'done',\n",
       "  'right': 'done',\n",
       "  'left_model': QuantileRegressor(alpha=0, quantile=0.05, solver='highs'),\n",
       "  'right_model': QuantileRegressor(alpha=0, quantile=0.05, solver='highs')},\n",
       " 'left_model': QuantileRegressor(alpha=0, quantile=0.05, solver='highs'),\n",
       " 'right_model': QuantileRegressor(alpha=0, quantile=0.05, solver='highs')}"
      ]
     },
     "execution_count": 29,
     "metadata": {},
     "output_type": "execute_result"
    }
   ],
   "source": [
    "model.tree"
   ]
  },
  {
   "cell_type": "code",
   "execution_count": 30,
   "id": "43e955f9",
   "metadata": {},
   "outputs": [
    {
     "data": {
      "text/plain": [
       "{'depth': 0,\n",
       " 'final': 0,\n",
       " 'struct': 'begin',\n",
       " 'feature': 5,\n",
       " 'threshold': 6.54,\n",
       " 'loss': 948.2107471024401,\n",
       " 'left': {'depth': 1,\n",
       "  'final': 0,\n",
       "  'struct': 'left',\n",
       "  'feature': 7,\n",
       "  'threshold': 1.3861,\n",
       "  'loss': 497.1022043155031,\n",
       "  'left': 'done',\n",
       "  'right': 'done',\n",
       "  'left_model': QuantileRegressor(alpha=0, solver='highs'),\n",
       "  'right_model': QuantileRegressor(alpha=0, solver='highs')},\n",
       " 'right': {'depth': 1,\n",
       "  'final': 0,\n",
       "  'struct': 'right',\n",
       "  'feature': 7,\n",
       "  'threshold': 1.9047,\n",
       "  'loss': 236.51335039296077,\n",
       "  'left': 'done',\n",
       "  'right': 'done',\n",
       "  'left_model': QuantileRegressor(alpha=0, solver='highs'),\n",
       "  'right_model': QuantileRegressor(alpha=0, solver='highs')},\n",
       " 'left_model': QuantileRegressor(alpha=0, solver='highs'),\n",
       " 'right_model': QuantileRegressor(alpha=0, solver='highs')}"
      ]
     },
     "execution_count": 30,
     "metadata": {},
     "output_type": "execute_result"
    }
   ],
   "source": [
    "quantile = 0.5\n",
    "model_1 = QuantileTreeRegressor(quantile=quantile, max_depth=2)\n",
    "model_1.fit(X_train, y_train)\n",
    "model_1.tree"
   ]
  },
  {
   "cell_type": "code",
   "execution_count": 31,
   "id": "05d93da8",
   "metadata": {},
   "outputs": [
    {
     "data": {
      "text/plain": [
       "{'depth': 0,\n",
       " 'final': 0,\n",
       " 'struct': 'begin',\n",
       " 'feature': 12,\n",
       " 'threshold': 9.38,\n",
       " 'loss': 2071.3999407682986,\n",
       " 'left': {'depth': 1,\n",
       "  'final': 0,\n",
       "  'struct': 'left',\n",
       "  'feature': 9,\n",
       "  'threshold': 403.0,\n",
       "  'loss': 565.6032374180929,\n",
       "  'left': 'done',\n",
       "  'right': 'done',\n",
       "  'left_model': QuantileRegressor(alpha=0, quantile=0.95, solver='highs'),\n",
       "  'right_model': QuantileRegressor(alpha=0, quantile=0.95, solver='highs')},\n",
       " 'right': {'depth': 1,\n",
       "  'final': 0,\n",
       "  'struct': 'right',\n",
       "  'feature': 0,\n",
       "  'threshold': 14.4208,\n",
       "  'loss': 1058.6000033682867,\n",
       "  'left': 'done',\n",
       "  'right': 'done',\n",
       "  'left_model': QuantileRegressor(alpha=0, quantile=0.95, solver='highs'),\n",
       "  'right_model': QuantileRegressor(alpha=0, quantile=0.95, solver='highs')},\n",
       " 'left_model': QuantileRegressor(alpha=0, quantile=0.95, solver='highs'),\n",
       " 'right_model': QuantileRegressor(alpha=0, quantile=0.95, solver='highs')}"
      ]
     },
     "execution_count": 31,
     "metadata": {},
     "output_type": "execute_result"
    }
   ],
   "source": [
    "quantile = 0.95\n",
    "model_2 = QuantileTreeRegressor(quantile=quantile, max_depth=2)\n",
    "model_2.fit(X_train, y_train)\n",
    "model_2.tree"
   ]
  },
  {
   "cell_type": "markdown",
   "id": "7d224c75",
   "metadata": {},
   "source": [
    "## Model Comparisons"
   ]
  },
  {
   "cell_type": "markdown",
   "id": "85b161bb",
   "metadata": {},
   "source": [
    "### Comparsion with quantile regression"
   ]
  },
  {
   "cell_type": "code",
   "execution_count": 45,
   "id": "e2c57643",
   "metadata": {},
   "outputs": [],
   "source": [
    "quantiles = np.arange(0.05, 1.0, 0.1)  # from 0.5 to 0.95 in steps of 0.1\n",
    "\n",
    "# Dictionary to store evaluation metrics for each quantile\n",
    "evaluation_metrics = {'quantile': [], 'MAE_qr': [], 'MSE_qr': [], 'MAE_qtr': [], 'MSE_qtr': []}\n",
    "\n",
    "# Dictionary to store predictions for each quantile\n",
    "quantile_predictions = {}"
   ]
  },
  {
   "cell_type": "code",
   "execution_count": 46,
   "id": "5a503d8d",
   "metadata": {},
   "outputs": [],
   "source": [
    "# Iterate over quantiles\n",
    "for quantile in quantiles:\n",
    "    # Instantiate and fit QuantileTreeRegressor\n",
    "    qtr_model = QuantileTreeRegressor(quantile=quantile, max_depth=2)\n",
    "    qtr_model.fit(X_train, y_train)\n",
    "\n",
    "    # Instantiate and fit QuantileRegressor\n",
    "    quantile_regressor_model = QuantileRegressor(quantile=quantile, alpha=0, solver=solver)\n",
    "    quantile_regressor_model.fit(X_train, y_train)\n",
    "\n",
    "    # Make predictions\n",
    "    predictions_qtr = qtr_model.predict(X_test)\n",
    "    predictions_qr = quantile_regressor_model.predict(X_test)\n",
    "\n",
    "    # Record evaluation metrics\n",
    "    mae_qtr = mean_absolute_error(y_test, predictions_qtr)\n",
    "    mse_qtr = mean_squared_error(y_test, predictions_qtr)\n",
    "    mae_qr = mean_absolute_error(y_test, predictions_qr)\n",
    "    mse_qr = mean_squared_error(y_test, predictions_qr)\n",
    "\n",
    "    # Store evaluation metrics in the dictionary\n",
    "    evaluation_metrics['quantile'].append(quantile)\n",
    "    evaluation_metrics['MAE_qr'].append(mae_qr)\n",
    "    evaluation_metrics['MSE_qr'].append(mse_qr)\n",
    "    evaluation_metrics['MAE_qtr'].append(mae_qtr)\n",
    "    evaluation_metrics['MSE_qtr'].append(mse_qtr)\n",
    "\n",
    "    # Store predictions in the dictionary\n",
    "    quantile_predictions[quantile] = {'qtr': predictions_qtr, 'qr': predictions_qr}"
   ]
  },
  {
   "cell_type": "code",
   "execution_count": 47,
   "id": "224e0442",
   "metadata": {},
   "outputs": [
    {
     "data": {
      "image/png": "[encoded data removed]",
      "text/plain": [
       "<Figure size 864x576 with 1 Axes>"
      ]
     },
     "metadata": {
      "needs_background": "light"
     },
     "output_type": "display_data"
    }
   ],
   "source": [
    "# Scatter plot for Actual vs. Predicted Values\n",
    "plt.figure(figsize=(12, 8))\n",
    "plt.plot(quantiles, evaluation_metrics['MAE_qtr'], label=\"Quantile Regression\", color='gray', alpha=0.6)\n",
    "plt.plot(quantiles, evaluation_metrics['MAE_qr'], label=\"Quantile Regression Tree\", color='blue', alpha=0.6)\n",
    "plt.xlabel(\"Quantile\")\n",
    "plt.ylabel(\"MAE\")\n",
    "plt.title(\"Mean Absolute errors across different quantiles - Model Comparison\")\n",
    "plt.legend()\n",
    "plt.show()"
   ]
  },
  {
   "cell_type": "code",
   "execution_count": 49,
   "id": "aaa2bdb7",
   "metadata": {},
   "outputs": [
    {
     "data": {
      "image/png": "[encoded data removed]",
      "text/plain": [
       "<Figure size 864x576 with 1 Axes>"
      ]
     },
     "metadata": {
      "needs_background": "light"
     },
     "output_type": "display_data"
    }
   ],
   "source": [
    "# Scatter plot for Actual vs. Predicted Values\n",
    "plt.figure(figsize=(12, 8))\n",
    "plt.plot(quantiles, evaluation_metrics['MSE_qtr'], label=\"Quantile Regression\", color='gray', alpha=0.6)\n",
    "plt.plot(quantiles, evaluation_metrics['MSE_qr'], label=\"Quantile Regression Tree\", color='blue', alpha=0.6)\n",
    "plt.xlabel(\"Quantile\")\n",
    "plt.ylabel(\"MAE\")\n",
    "plt.title(\"Mean squared errors across different quantiles - Model Comparison\")\n",
    "plt.legend()\n",
    "plt.show()"
   ]
  },
  {
   "cell_type": "markdown",
   "id": "fb2160d7",
   "metadata": {},
   "source": [
    "### Comparsion with quantile regression"
   ]
  },
  {
   "cell_type": "code",
   "execution_count": 33,
   "id": "dfbc6d1b",
   "metadata": {},
   "outputs": [
    {
     "data": {
      "text/html": [
       "<style>#sk-container-id-2 {color: black;background-color: white;}#sk-container-id-2 pre{padding: 0;}#sk-container-id-2 div.sk-toggleable {background-color: white;}#sk-container-id-2 label.sk-toggleable__label {cursor: pointer;display: block;width: 100%;margin-bottom: 0;padding: 0.3em;box-sizing: border-box;text-align: center;}#sk-container-id-2 label.sk-toggleable__label-arrow:before {content: \"▸\";float: left;margin-right: 0.25em;color: #696969;}#sk-container-id-2 label.sk-toggleable__label-arrow:hover:before {color: black;}#sk-container-id-2 div.sk-estimator:hover label.sk-toggleable__label-arrow:before {color: black;}#sk-container-id-2 div.sk-toggleable__content {max-height: 0;max-width: 0;overflow: hidden;text-align: left;background-color: #f0f8ff;}#sk-container-id-2 div.sk-toggleable__content pre {margin: 0.2em;color: black;border-radius: 0.25em;background-color: #f0f8ff;}#sk-container-id-2 input.sk-toggleable__control:checked~div.sk-toggleable__content {max-height: 200px;max-width: 100%;overflow: auto;}#sk-container-id-2 input.sk-toggleable__control:checked~label.sk-toggleable__label-arrow:before {content: \"▾\";}#sk-container-id-2 div.sk-estimator input.sk-toggleable__control:checked~label.sk-toggleable__label {background-color: #d4ebff;}#sk-container-id-2 div.sk-label input.sk-toggleable__control:checked~label.sk-toggleable__label {background-color: #d4ebff;}#sk-container-id-2 input.sk-hidden--visually {border: 0;clip: rect(1px 1px 1px 1px);clip: rect(1px, 1px, 1px, 1px);height: 1px;margin: -1px;overflow: hidden;padding: 0;position: absolute;width: 1px;}#sk-container-id-2 div.sk-estimator {font-family: monospace;background-color: #f0f8ff;border: 1px dotted black;border-radius: 0.25em;box-sizing: border-box;margin-bottom: 0.5em;}#sk-container-id-2 div.sk-estimator:hover {background-color: #d4ebff;}#sk-container-id-2 div.sk-parallel-item::after {content: \"\";width: 100%;border-bottom: 1px solid gray;flex-grow: 1;}#sk-container-id-2 div.sk-label:hover label.sk-toggleable__label {background-color: #d4ebff;}#sk-container-id-2 div.sk-serial::before {content: \"\";position: absolute;border-left: 1px solid gray;box-sizing: border-box;top: 0;bottom: 0;left: 50%;z-index: 0;}#sk-container-id-2 div.sk-serial {display: flex;flex-direction: column;align-items: center;background-color: white;padding-right: 0.2em;padding-left: 0.2em;position: relative;}#sk-container-id-2 div.sk-item {position: relative;z-index: 1;}#sk-container-id-2 div.sk-parallel {display: flex;align-items: stretch;justify-content: center;background-color: white;position: relative;}#sk-container-id-2 div.sk-item::before, #sk-container-id-2 div.sk-parallel-item::before {content: \"\";position: absolute;border-left: 1px solid gray;box-sizing: border-box;top: 0;bottom: 0;left: 50%;z-index: -1;}#sk-container-id-2 div.sk-parallel-item {display: flex;flex-direction: column;z-index: 1;position: relative;background-color: white;}#sk-container-id-2 div.sk-parallel-item:first-child::after {align-self: flex-end;width: 50%;}#sk-container-id-2 div.sk-parallel-item:last-child::after {align-self: flex-start;width: 50%;}#sk-container-id-2 div.sk-parallel-item:only-child::after {width: 0;}#sk-container-id-2 div.sk-dashed-wrapped {border: 1px dashed gray;margin: 0 0.4em 0.5em 0.4em;box-sizing: border-box;padding-bottom: 0.4em;background-color: white;}#sk-container-id-2 div.sk-label label {font-family: monospace;font-weight: bold;display: inline-block;line-height: 1.2em;}#sk-container-id-2 div.sk-label-container {text-align: center;}#sk-container-id-2 div.sk-container {/* jupyter's `normalize.less` sets `[hidden] { display: none; }` but bootstrap.min.css set `[hidden] { display: none !important; }` so we also need the `!important` here to be able to override the default hidden behavior on the sphinx rendered scikit-learn.org. See: https://github.com/scikit-learn/scikit-learn/issues/21755 */display: inline-block !important;position: relative;}#sk-container-id-2 div.sk-text-repr-fallback {display: none;}</style><div id=\"sk-container-id-2\" class=\"sk-top-container\"><div class=\"sk-text-repr-fallback\"><pre>QuantileRegressor(alpha=0, quantile=0.95, solver=&#x27;highs&#x27;)</pre><b>In a Jupyter environment, please rerun this cell to show the HTML representation or trust the notebook. <br />On GitHub, the HTML representation is unable to render, please try loading this page with nbviewer.org.</b></div><div class=\"sk-container\" hidden><div class=\"sk-item\"><div class=\"sk-estimator sk-toggleable\"><input class=\"sk-toggleable__control sk-hidden--visually\" id=\"sk-estimator-id-2\" type=\"checkbox\" checked><label for=\"sk-estimator-id-2\" class=\"sk-toggleable__label sk-toggleable__label-arrow\">QuantileRegressor</label><div class=\"sk-toggleable__content\"><pre>QuantileRegressor(alpha=0, quantile=0.95, solver=&#x27;highs&#x27;)</pre></div></div></div></div></div>"
      ],
      "text/plain": [
       "QuantileRegressor(alpha=0, quantile=0.95, solver='highs')"
      ]
     },
     "execution_count": 33,
     "metadata": {},
     "output_type": "execute_result"
    }
   ],
   "source": [
    "pred = model_1.predict(X_test)\n",
    "\n",
    "# Initialize and train other comparison models\n",
    "linear_model_1 = LinearRegression()\n",
    "decision_tree_model_1 = DecisionTreeRegressor(random_state=42)\n",
    "quantile_regressor_model_1 = QuantileRegressor(quantile=quantile, alpha=0, solver=solver)\n",
    "\n",
    "linear_model_1.fit(X_train, y_train)\n",
    "decision_tree_model_1.fit(X_train, y_train)\n",
    "quantile_regressor_model_1.fit(X_train, y_train)"
   ]
  },
  {
   "cell_type": "code",
   "execution_count": null,
   "id": "e835f120",
   "metadata": {},
   "outputs": [],
   "source": [
    "# Make predictions using the comparison models\n",
    "linear_predictions = linear_model_1.predict(X_test)\n",
    "decision_tree_predictions = decision_tree_model_1.predict(X_test)\n",
    "quantile_regressor_predictions = quantile_regressor_model_1.predict(X_test)"
   ]
  },
  {
   "cell_type": "code",
   "execution_count": null,
   "id": "124e35d8",
   "metadata": {},
   "outputs": [],
   "source": [
    "# Calculate MAE and MSE for all models\n",
    "mae_values = [\n",
    "    mean_absolute_error(y_test, pred),\n",
    "    mean_absolute_error(y_test, quantile_regressor_predictions),\n",
    "    mean_absolute_error(y_test, linear_predictions),\n",
    "    mean_absolute_error(y_test, decision_tree_predictions)\n",
    "    \n",
    "]\n",
    "\n",
    "mse_values = [\n",
    "    mean_squared_error(y_test, pred),\n",
    "    mean_squared_error(y_test, quantile_regressor_predictions),\n",
    "    mean_squared_error(y_test, linear_predictions),\n",
    "    mean_squared_error(y_test, decision_tree_predictions)\n",
    "    \n",
    "]"
   ]
  },
  {
   "cell_type": "code",
   "execution_count": null,
   "id": "38387b03",
   "metadata": {},
   "outputs": [],
   "source": [
    "# Bar plot for MAE and MSE comparison\n",
    "models = [\"Quantile Reg Tree\", \"Quantile Regressor\",\"Linear Regression\", \"Decision Tree\"]\n",
    "fig, axes = plt.subplots(1, 2, figsize=(14, 6))\n",
    "axes[0].bar(models, mae_values, color='skyblue')\n",
    "axes[0].set_title(\"Mean Absolute Error Comparison\")\n",
    "axes[0].set_ylabel(\"Mean Absolute Error\")\n",
    "\n",
    "axes[1].bar(models, mse_values, color='lightgreen')\n",
    "axes[1].set_title(\"Mean Squared Error Comparison\")\n",
    "axes[1].set_ylabel(\"Mean Squared Error\")\n",
    "\n",
    "plt.tight_layout()\n",
    "plt.show()"
   ]
  }
 ],
 "metadata": {
  "colab": {
   "provenance": []
  },
  "kernelspec": {
   "display_name": "Python 3",
   "language": "python",
   "name": "python3"
  },
  "language_info": {
   "codemirror_mode": {
    "name": "ipython",
    "version": 3
   },
   "file_extension": ".py",
   "mimetype": "text/x-python",
   "name": "python",
   "nbconvert_exporter": "python",
   "pygments_lexer": "ipython3",
   "version": "3.8.8"
  }
 },
 "nbformat": 4,
 "nbformat_minor": 5
}
